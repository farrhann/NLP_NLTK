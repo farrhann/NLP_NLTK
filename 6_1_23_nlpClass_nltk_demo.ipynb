{
 "cells": [
  {
   "cell_type": "code",
   "execution_count": 1,
   "id": "de523b77",
   "metadata": {},
   "outputs": [],
   "source": [
    "import nltk"
   ]
  },
  {
   "cell_type": "code",
   "execution_count": 2,
   "id": "1ff3288a",
   "metadata": {},
   "outputs": [
    {
     "name": "stdout",
     "output_type": "stream",
     "text": [
      "showing info https://raw.githubusercontent.com/nltk/nltk_data/gh-pages/index.xml\n"
     ]
    },
    {
     "data": {
      "text/plain": [
       "True"
      ]
     },
     "execution_count": 2,
     "metadata": {},
     "output_type": "execute_result"
    }
   ],
   "source": [
    "nltk.download()"
   ]
  },
  {
   "cell_type": "code",
   "execution_count": 3,
   "id": "98ead200",
   "metadata": {},
   "outputs": [
    {
     "name": "stdout",
     "output_type": "stream",
     "text": [
      "*** Introductory Examples for the NLTK Book ***\n",
      "Loading text1, ..., text9 and sent1, ..., sent9\n",
      "Type the name of the text or sentence to view it.\n",
      "Type: 'texts()' or 'sents()' to list the materials.\n",
      "text1: Moby Dick by Herman Melville 1851\n",
      "text2: Sense and Sensibility by Jane Austen 1811\n",
      "text3: The Book of Genesis\n",
      "text4: Inaugural Address Corpus\n",
      "text5: Chat Corpus\n",
      "text6: Monty Python and the Holy Grail\n",
      "text7: Wall Street Journal\n",
      "text8: Personals Corpus\n",
      "text9: The Man Who Was Thursday by G . K . Chesterton 1908\n"
     ]
    }
   ],
   "source": [
    "from nltk.book import*"
   ]
  },
  {
   "cell_type": "code",
   "execution_count": 6,
   "id": "1b4a2f18",
   "metadata": {},
   "outputs": [
    {
     "ename": "NameError",
     "evalue": "name 'freqDist' is not defined",
     "output_type": "error",
     "traceback": [
      "\u001b[1;31m---------------------------------------------------------------------------\u001b[0m",
      "\u001b[1;31mNameError\u001b[0m                                 Traceback (most recent call last)",
      "Cell \u001b[1;32mIn[6], line 1\u001b[0m\n\u001b[1;32m----> 1\u001b[0m fdist1 \u001b[38;5;241m=\u001b[39m \u001b[43mfreqDist\u001b[49m(text1)\n\u001b[0;32m      2\u001b[0m \u001b[38;5;28mprint\u001b[39m(fdist1)\n",
      "\u001b[1;31mNameError\u001b[0m: name 'freqDist' is not defined"
     ]
    }
   ],
   "source": [
    "fdist1 = freqDist(text1)\n",
    "print(fdist1)"
   ]
  },
  {
   "cell_type": "code",
   "execution_count": 7,
   "id": "a5a58c79",
   "metadata": {},
   "outputs": [
    {
     "name": "stdout",
     "output_type": "stream",
     "text": [
      "<FreqDist with 19317 samples and 260819 outcomes>\n"
     ]
    }
   ],
   "source": [
    "fdist1 = FreqDist(text1)\n",
    "print(fdist1)"
   ]
  },
  {
   "cell_type": "code",
   "execution_count": 8,
   "id": "4bb10ae4",
   "metadata": {},
   "outputs": [
    {
     "name": "stdout",
     "output_type": "stream",
     "text": [
      "<FreqDist with 19317 samples and 260819 outcomes>\n"
     ]
    }
   ],
   "source": [
    "print(FreqDist(text1))"
   ]
  },
  {
   "cell_type": "code",
   "execution_count": 9,
   "id": "deac1d8a",
   "metadata": {},
   "outputs": [
    {
     "data": {
      "text/plain": [
       "[(',', 18713),\n",
       " ('the', 13721),\n",
       " ('.', 6862),\n",
       " ('of', 6536),\n",
       " ('and', 6024),\n",
       " ('a', 4569),\n",
       " ('to', 4542),\n",
       " (';', 4072),\n",
       " ('in', 3916),\n",
       " ('that', 2982),\n",
       " (\"'\", 2684),\n",
       " ('-', 2552),\n",
       " ('his', 2459),\n",
       " ('it', 2209),\n",
       " ('I', 2124),\n",
       " ('s', 1739),\n",
       " ('is', 1695),\n",
       " ('he', 1661),\n",
       " ('with', 1659),\n",
       " ('was', 1632),\n",
       " ('as', 1620),\n",
       " ('\"', 1478),\n",
       " ('all', 1462),\n",
       " ('for', 1414),\n",
       " ('this', 1280),\n",
       " ('!', 1269),\n",
       " ('at', 1231),\n",
       " ('by', 1137),\n",
       " ('but', 1113),\n",
       " ('not', 1103),\n",
       " ('--', 1070),\n",
       " ('him', 1058),\n",
       " ('from', 1052),\n",
       " ('be', 1030),\n",
       " ('on', 1005),\n",
       " ('so', 918),\n",
       " ('whale', 906),\n",
       " ('one', 889),\n",
       " ('you', 841),\n",
       " ('had', 767),\n",
       " ('have', 760),\n",
       " ('there', 715),\n",
       " ('But', 705),\n",
       " ('or', 697),\n",
       " ('were', 680),\n",
       " ('now', 646),\n",
       " ('which', 640),\n",
       " ('?', 637),\n",
       " ('me', 627),\n",
       " ('like', 624)]"
      ]
     },
     "execution_count": 9,
     "metadata": {},
     "output_type": "execute_result"
    }
   ],
   "source": [
    "fdist1.most_common(50)"
   ]
  },
  {
   "cell_type": "code",
   "execution_count": 10,
   "id": "2273846d",
   "metadata": {},
   "outputs": [
    {
     "name": "stdout",
     "output_type": "stream",
     "text": [
      "[('the', 9555), (',', 7275), ('of', 7169), ('and', 5226), ('.', 5011), ('to', 4477), ('in', 2604), ('a', 2229), ('our', 2062), ('that', 1769), ('be', 1505), ('is', 1477), ('we', 1281), ('for', 1141), ('by', 1063), ('it', 1036), ('have', 1029), ('which', 1007), ('not', 972), ('will', 935), ('as', 926), ('with', 918), ('I', 882), ('are', 820), ('all', 807), ('this', 755), ('their', 743), ('The', 634), ('has', 632), ('people', 589), (';', 573), ('its', 562), ('or', 559), ('We', 557), ('from', 545), ('on', 521), ('but', 507), ('us', 502), ('been', 496), ('can', 484), ('my', 472), ('no', 419), ('an', 388), ('who', 376), ('must', 373), ('so', 369), ('It', 366), ('upon', 365), ('--', 363), ('they', 358)]\n"
     ]
    }
   ],
   "source": [
    "print(FreqDist(text4).most_common(50))"
   ]
  },
  {
   "cell_type": "code",
   "execution_count": 11,
   "id": "be4d76bd",
   "metadata": {},
   "outputs": [],
   "source": [
    "from nltk.corpus import brown"
   ]
  },
  {
   "cell_type": "code",
   "execution_count": 12,
   "id": "a75c7bb1",
   "metadata": {},
   "outputs": [
    {
     "data": {
      "text/plain": [
       "['adventure',\n",
       " 'belles_lettres',\n",
       " 'editorial',\n",
       " 'fiction',\n",
       " 'government',\n",
       " 'hobbies',\n",
       " 'humor',\n",
       " 'learned',\n",
       " 'lore',\n",
       " 'mystery',\n",
       " 'news',\n",
       " 'religion',\n",
       " 'reviews',\n",
       " 'romance',\n",
       " 'science_fiction']"
      ]
     },
     "execution_count": 12,
     "metadata": {},
     "output_type": "execute_result"
    }
   ],
   "source": [
    "brown.categories()"
   ]
  },
  {
   "cell_type": "code",
   "execution_count": 21,
   "id": "e8b18dc8",
   "metadata": {
    "scrolled": true
   },
   "outputs": [
    {
     "name": "stdout",
     "output_type": "stream",
     "text": [
      "['Dan', 'Morgan', 'told', 'himself', 'he', 'would', 'forget', 'Ann', 'Turner', '.', 'He', 'was', 'well', 'rid', 'of', 'her', '.', 'He', 'certainly', \"didn't\"]\n"
     ]
    }
   ],
   "source": [
    "#first 20 words of category adventure\n",
    "ls = brown.words(categories = 'adventure')\n",
    "print(ls[20])"
   ]
  },
  {
   "cell_type": "code",
   "execution_count": 15,
   "id": "60e8ce82",
   "metadata": {},
   "outputs": [],
   "source": [
    "from nltk.corpus import inaugural"
   ]
  },
  {
   "cell_type": "code",
   "execution_count": 17,
   "id": "ac544620",
   "metadata": {},
   "outputs": [
    {
     "data": {
      "text/plain": [
       "['1789-Washington.txt',\n",
       " '1793-Washington.txt',\n",
       " '1797-Adams.txt',\n",
       " '1801-Jefferson.txt',\n",
       " '1805-Jefferson.txt',\n",
       " '1809-Madison.txt',\n",
       " '1813-Madison.txt',\n",
       " '1817-Monroe.txt',\n",
       " '1821-Monroe.txt',\n",
       " '1825-Adams.txt',\n",
       " '1829-Jackson.txt',\n",
       " '1833-Jackson.txt',\n",
       " '1837-VanBuren.txt',\n",
       " '1841-Harrison.txt',\n",
       " '1845-Polk.txt',\n",
       " '1849-Taylor.txt',\n",
       " '1853-Pierce.txt',\n",
       " '1857-Buchanan.txt',\n",
       " '1861-Lincoln.txt',\n",
       " '1865-Lincoln.txt',\n",
       " '1869-Grant.txt',\n",
       " '1873-Grant.txt',\n",
       " '1877-Hayes.txt',\n",
       " '1881-Garfield.txt',\n",
       " '1885-Cleveland.txt',\n",
       " '1889-Harrison.txt',\n",
       " '1893-Cleveland.txt',\n",
       " '1897-McKinley.txt',\n",
       " '1901-McKinley.txt',\n",
       " '1905-Roosevelt.txt',\n",
       " '1909-Taft.txt',\n",
       " '1913-Wilson.txt',\n",
       " '1917-Wilson.txt',\n",
       " '1921-Harding.txt',\n",
       " '1925-Coolidge.txt',\n",
       " '1929-Hoover.txt',\n",
       " '1933-Roosevelt.txt',\n",
       " '1937-Roosevelt.txt',\n",
       " '1941-Roosevelt.txt',\n",
       " '1945-Roosevelt.txt',\n",
       " '1949-Truman.txt',\n",
       " '1953-Eisenhower.txt',\n",
       " '1957-Eisenhower.txt',\n",
       " '1961-Kennedy.txt',\n",
       " '1965-Johnson.txt',\n",
       " '1969-Nixon.txt',\n",
       " '1973-Nixon.txt',\n",
       " '1977-Carter.txt',\n",
       " '1981-Reagan.txt',\n",
       " '1985-Reagan.txt',\n",
       " '1989-Bush.txt',\n",
       " '1993-Clinton.txt',\n",
       " '1997-Clinton.txt',\n",
       " '2001-Bush.txt',\n",
       " '2005-Bush.txt',\n",
       " '2009-Obama.txt',\n",
       " '2013-Obama.txt',\n",
       " '2017-Trump.txt',\n",
       " '2021-Biden.txt']"
      ]
     },
     "execution_count": 17,
     "metadata": {},
     "output_type": "execute_result"
    }
   ],
   "source": [
    "#all fileids in inaugural\n",
    "inaugural.fileids()"
   ]
  },
  {
   "cell_type": "code",
   "execution_count": 18,
   "id": "bb206990",
   "metadata": {},
   "outputs": [
    {
     "name": "stdout",
     "output_type": "stream",
     "text": [
      "['Chief', 'Justice', 'Roberts', ',', 'Vice', 'President', 'Harris', ',', 'Speaker', 'Pelosi', ',', 'Leader', 'Schumer', ',', 'Leader', 'McConnell', ',', 'Vice', 'President', 'Pence']\n"
     ]
    }
   ],
   "source": [
    "#Joe biden first 20 words in speech\n",
    "ls = inaugural.words(fileids='2021-Biden.txt')\n",
    "print(ls[:20])"
   ]
  },
  {
   "cell_type": "code",
   "execution_count": 20,
   "id": "c7defa19",
   "metadata": {},
   "outputs": [
    {
     "name": "stdout",
     "output_type": "stream",
     "text": [
      "The top 50 words by barak obama in speech are:    [(',', 130), ('the', 126), ('.', 108), ('and', 105), ('of', 82), ('to', 66), ('our', 58), ('we', 50), ('that', 48), ('a', 47), ('is', 36), ('us', 23), ('in', 22), ('are', 22), (';', 22), ('--', 22), ('this', 20), ('will', 19), ('but', 17), ('have', 16), ('not', 16), ('for', 15), ('on', 15), ('it', 15), ('you', 14), ('has', 14), ('who', 14), (\"'\", 13), ('can', 13), ('nation', 12), ('We', 12), ('be', 12), ('s', 12), ('or', 11), ('with', 11), ('new', 11), ('they', 11), ('America', 10), ('those', 10), ('as', 9), ('-', 9), ('The', 9), ('Our', 9), ('their', 9), ('by', 8), ('been', 8), ('every', 8), ('because', 8), ('must', 8), ('For', 8)]\n",
      "\n",
      "The top 50 words by Donald Trump in speech are:    [(',', 106), ('.', 89), ('and', 70), ('the', 65), ('of', 48), ('our', 47), ('will', 43), ('to', 37), ('We', 26), ('we', 24), ('America', 20), ('is', 20), ('a', 14), ('all', 14), ('are', 13), ('in', 13), ('for', 13), ('be', 13), ('you', 12), ('but', 11), (\"'\", 11), ('American', 11), ('people', 10), ('their', 10), ('not', 10), ('your', 10), ('country', 9), ('from', 9), ('again', 9), ('that', 9), (':', 8), ('this', 8), ('it', 8), ('with', 8), ('s', 7), ('one', 7), ('world', 6), ('great', 6), ('on', 6), ('has', 6), ('back', 6), ('Nation', 6), ('while', 6), ('The', 6), ('And', 6), ('by', 6), ('never', 6), ('new', 6), ('same', 6), ('President', 5)]\n",
      "\n",
      "The top 50 words by Joe Biden in speech are:    [(',', 230), ('.', 155), ('the', 109), ('of', 82), ('and', 80), ('we', 70), ('to', 63), ('a', 45), ('I', 44), (\"'\", 43), ('in', 43), ('our', 41), ('this', 35), ('for', 31), ('is', 29), ('will', 26), ('We', 25), ('And', 25), ('us', 24), ('you', 24), (':', 23), ('not', 23), ('all', 23), ('my', 22), ('s', 22), ('as', 22), ('be', 22), ('that', 21), ('have', 21), ('America', 20), ('can', 19), ('\\x80\\x94', 15), ('one', 14), ('Nation', 13), ('do', 13), ('on', 12), ('with', 12), ('are', 12), ('democracy', 11), ('has', 11), ('who', 11), ('me', 11), ('those', 11), ('Americans', 10), ('but', 10), ('their', 10), ('by', 10), (';', 10), ('much', 10), ('people', 9)]\n"
     ]
    }
   ],
   "source": [
    "#FreqDist of 3 presidents\n",
    "d1 = inaugural.words(fileids='2009-Obama.txt')\n",
    "d2 = inaugural.words(fileids='2017-Trump.txt')\n",
    "d3 = inaugural.words(fileids='2021-Biden.txt')\n",
    "print(\"The top 50 words by barak obama in speech are:   \",FreqDist(d1).most_common(50))\n",
    "print()\n",
    "print(\"The top 50 words by Donald Trump in speech are:   \",FreqDist(d2).most_common(50))\n",
    "print()\n",
    "print(\"The top 50 words by Joe Biden in speech are:   \",FreqDist(d3).most_common(50))"
   ]
  },
  {
   "cell_type": "code",
   "execution_count": null,
   "id": "9395f0e6",
   "metadata": {},
   "outputs": [],
   "source": []
  }
 ],
 "metadata": {
  "kernelspec": {
   "display_name": "Python 3 (ipykernel)",
   "language": "python",
   "name": "python3"
  },
  "language_info": {
   "codemirror_mode": {
    "name": "ipython",
    "version": 3
   },
   "file_extension": ".py",
   "mimetype": "text/x-python",
   "name": "python",
   "nbconvert_exporter": "python",
   "pygments_lexer": "ipython3",
   "version": "3.9.13"
  }
 },
 "nbformat": 4,
 "nbformat_minor": 5
}
